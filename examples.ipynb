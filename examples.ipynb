{
 "cells": [
  {
   "cell_type": "code",
   "execution_count": 1,
   "metadata": {},
   "outputs": [],
   "source": [
    "import json\n"
   ]
  },
  {
   "cell_type": "code",
   "execution_count": 2,
   "metadata": {},
   "outputs": [
    {
     "name": "stdout",
     "output_type": "stream",
     "text": [
      "{'dx': 0.005, 'dy': 0.005, 'dt': 2.0}\n",
      "dx = 0.005, dy = 0.005, dt = 2.0\n"
     ]
    }
   ],
   "source": [
    "# load data/cihly/parametry.json\n",
    "with open('data/cihly/parametry.json') as f:\n",
    "    data = json.load(f)\n",
    "# print data\n",
    "print(data)\n",
    "dx = data['dx']\n",
    "dy = data['dy']\n",
    "dt = data['dt']\n",
    "print(f\"dx = {dx}, dy = {dy}, dt = {dt}\")"
   ]
  },
  {
   "cell_type": "code",
   "execution_count": 3,
   "metadata": {},
   "outputs": [
    {
     "name": "stdout",
     "output_type": "stream",
     "text": [
      "{'dx': 0.01, 'dy': 0.01, 'dt': 0.1}\n",
      "dx = 0.01, dy = 0.01, dt = 0.1\n"
     ]
    }
   ],
   "source": [
    "# load data/spirala/parametry.json\n",
    "with open('data/spirala/parametry.json') as f:\n",
    "    data = json.load(f)\n",
    "# print data\n",
    "print(data)\n",
    "dx = data['dx']\n",
    "dy = data['dy']\n",
    "dt = data['dt']\n",
    "print(f\"dx = {dx}, dy = {dy}, dt = {dt}\")"
   ]
  }
 ],
 "metadata": {
  "kernelspec": {
   "display_name": "Python 3",
   "language": "python",
   "name": "python3"
  },
  "language_info": {
   "codemirror_mode": {
    "name": "ipython",
    "version": 3
   },
   "file_extension": ".py",
   "mimetype": "text/x-python",
   "name": "python",
   "nbconvert_exporter": "python",
   "pygments_lexer": "ipython3",
   "version": "3.10.10"
  },
  "orig_nbformat": 4
 },
 "nbformat": 4,
 "nbformat_minor": 2
}
